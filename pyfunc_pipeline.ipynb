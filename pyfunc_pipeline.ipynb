{
 "cells": [
  {
   "cell_type": "code",
   "execution_count": 28,
   "metadata": {},
   "outputs": [],
   "source": [
    "import mlflow.pyfunc\n",
    "from typing import Any, Dict, Union\n",
    "import pandas as pd\n",
    "import numpy as np\n",
    "from sklearn.base import BaseEstimator\n",
    "from sklearn.model_selection import train_test_split\n",
    "from sklearn.ensemble import RandomForestClassifier\n",
    "import lightgbm as lgb\n",
    "import xgboost as xgb"
   ]
  },
  {
   "cell_type": "markdown",
   "metadata": {},
   "source": [
    "1. Pipeline\n",
    "    * preprocessing that need to be trained\n",
    "    * train model\n",
    "    * model explanation & visualization\n",
    "2. Algorithm agnostic\n",
    "    * the pipeline should be able to emcompass multiple algorithms\n",
    "    * some complexities might need to be built-in for some component of the pipeline (say explanation) to ensure uniform API"
   ]
  },
  {
   "cell_type": "markdown",
   "metadata": {},
   "source": [
    "Steps\n",
    "\n",
    "1. The minimalist algorithm agnostic pipeline\n",
    "    * static preprocessing\n",
    "    * accept any model\n",
    "    * demo different algorithms\n",
    "2. Pipeline with custom preprocesser\n",
    "    * custom preprocesser 1 for numeric features\n",
    "    * demo the pipeline\n",
    "    * customer preprocesser 2 that can handle categorical features too\n",
    "    * demo using the same pipeline but calling the advanced preprocesser\n",
    "3. Add explainer\n"
   ]
  },
  {
   "cell_type": "markdown",
   "metadata": {},
   "source": [
    "# The Minimalist ALgorithm Agnostic Pipeline\n",
    "\n",
    "* minimal preprocessing\n",
    "* algorithm agnostic: take any sklearn models"
   ]
  },
  {
   "cell_type": "code",
   "execution_count": 25,
   "metadata": {},
   "outputs": [],
   "source": [
    "class ML_PIPELINE(mlflow.pyfunc.PythonModel):\n",
    "    \"\"\"\n",
    "    ML_PIPELINE is an implementation of an MLflow Python model that can be used with any \n",
    "    scikit-learn compatible model (e.g., XGBoost, LightGBM, etc.).\n",
    "    This class includes methods for preprocessing input data, training the model, \n",
    "    and making predictions.\n",
    "\n",
    "    Attributes:\n",
    "        model (BaseEstimator or None): A scikit-learn compatible model instance (initialized as None).\n",
    "        config (Any or None): Optional configuration for the model (initialized as None).\n",
    "    \"\"\"\n",
    "\n",
    "    def __init__(self, model: BaseEstimator = None, config: Any = None):\n",
    "        \"\"\"\n",
    "        Initialize the ML_PIPELINE with the given model and optional configuration.\n",
    "\n",
    "        Parameters:\n",
    "            model (BaseEstimator, optional): A scikit-learn compatible model (e.g., LightGBM, XGBoost).\n",
    "            config (Any, optional): Optional configuration for the model.\n",
    "        \"\"\"\n",
    "        self.model = model\n",
    "        self.config = config\n",
    "\n",
    "    def preprocess_input(self, model_input: pd.DataFrame) -> pd.DataFrame:\n",
    "        \"\"\"\n",
    "        Preprocess the input data by dropping the first column.\n",
    "\n",
    "        Parameters:\n",
    "            model_input (pd.DataFrame): The input DataFrame to preprocess.\n",
    "\n",
    "        Returns:\n",
    "            pd.DataFrame: The preprocessed DataFrame.\n",
    "        \"\"\"\n",
    "        processed_input = model_input.copy()\n",
    "        processed_input.drop(processed_input.columns[0], axis=1, inplace=True)\n",
    "        return processed_input\n",
    "\n",
    "    def fit(self, X_train: pd.DataFrame, y_train: pd.Series):\n",
    "        \"\"\"\n",
    "        Train the model using the preprocessed training data.\n",
    "\n",
    "        Parameters:\n",
    "            X_train (pd.DataFrame): The training input data (features).\n",
    "            y_train (pd.Series): The target values for the training data.\n",
    "        \"\"\"\n",
    "        X_train_preprocessed = self.preprocess_input(X_train.copy())\n",
    "        self.model.fit(X_train_preprocessed, y_train)\n",
    "\n",
    "    def predict(self, context: Any, model_input: pd.DataFrame) -> Any:\n",
    "        \"\"\"\n",
    "        Make predictions using the trained model.\n",
    "\n",
    "        Parameters:\n",
    "            context (Any): Optional context provided by MLflow during the prediction phase.\n",
    "            model_input (pd.DataFrame): The input data to predict on.\n",
    "\n",
    "        Returns:\n",
    "            Any: The predicted probabilities or results.\n",
    "        \"\"\"\n",
    "        processed_model_input = self.preprocess_input(model_input.copy())\n",
    "        return self.model.predict_proba(processed_model_input)\n"
   ]
  },
  {
   "cell_type": "code",
   "execution_count": 29,
   "metadata": {},
   "outputs": [],
   "source": [
    "params = {\n",
    "    'n_estimators': 100,\n",
    "    'learning_rate': 0.1,\n",
    "    'max_depth': 5,\n",
    "    'random_state': 42\n",
    "}\n",
    "model = lgb.LGBMClassifier(**params, verbose = -1)\n",
    "# model = xgb.XGBClassifier()\n",
    "ml_pipeline = ML_PIPELINE(\n",
    "    model = model\n",
    ")"
   ]
  },
  {
   "cell_type": "code",
   "execution_count": 30,
   "metadata": {},
   "outputs": [],
   "source": [
    "\n",
    "# Create a synthetic dataset\n",
    "data = pd.DataFrame({\n",
    "    'Feature1': [i + 5 for i in range(100)],  # Feature1 is a simple linear function\n",
    "    'Feature2': [2 * i - 10 for i in range(100)],  # Feature2 has a linear relationship\n",
    "    'Feature3': np.random.uniform(low=0.0, high=1.0, size=100),  # Random values between 0 and 1\n",
    "    'Target': [1 if (i + 5) + 2 * i - 10 > 30 else 0 for i in range(100)]  # Target depends on Feature1 and Feature2\n",
    "})\n",
    "\n",
    "X = data.drop('Target', axis=1)\n",
    "y = data['Target']\n",
    "\n",
    "X_train, X_test, y_train, y_test = train_test_split(X, y, test_size=0.2, random_state=42)\n",
    "\n",
    "ml_pipeline.fit(X_train, y_train)\n",
    "y_pred = ml_pipeline.predict(context = None, model_input = X_test)"
   ]
  }
 ],
 "metadata": {
  "kernelspec": {
   "display_name": ".venv",
   "language": "python",
   "name": "python3"
  },
  "language_info": {
   "codemirror_mode": {
    "name": "ipython",
    "version": 3
   },
   "file_extension": ".py",
   "mimetype": "text/x-python",
   "name": "python",
   "nbconvert_exporter": "python",
   "pygments_lexer": "ipython3",
   "version": "3.11.2"
  }
 },
 "nbformat": 4,
 "nbformat_minor": 2
}
