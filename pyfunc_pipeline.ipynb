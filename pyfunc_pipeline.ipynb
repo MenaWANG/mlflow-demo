{
 "cells": [
  {
   "cell_type": "code",
   "execution_count": 1,
   "metadata": {},
   "outputs": [],
   "source": [
    "import mlflow\n",
    "import pandas as pd"
   ]
  },
  {
   "cell_type": "markdown",
   "metadata": {},
   "source": [
    "1. Pipeline\n",
    "    * preprocessing that need to be trained\n",
    "    * train model\n",
    "    * model explanation & visualization\n",
    "2. Algorithm agnostic\n",
    "    * the pipeline should be able to emcompass multiple algorithms\n",
    "    * some complexities might need to be built-in for some component of the pipeline (say explanation) to ensure uniform API"
   ]
  }
 ],
 "metadata": {
  "kernelspec": {
   "display_name": ".venv",
   "language": "python",
   "name": "python3"
  },
  "language_info": {
   "codemirror_mode": {
    "name": "ipython",
    "version": 3
   },
   "file_extension": ".py",
   "mimetype": "text/x-python",
   "name": "python",
   "nbconvert_exporter": "python",
   "pygments_lexer": "ipython3",
   "version": "3.11.2"
  }
 },
 "nbformat": 4,
 "nbformat_minor": 2
}
