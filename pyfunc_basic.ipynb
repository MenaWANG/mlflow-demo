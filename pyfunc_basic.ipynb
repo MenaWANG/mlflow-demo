{
 "cells": [
  {
   "cell_type": "markdown",
   "metadata": {},
   "source": [
    "# Algorithm-Agnostic Model Building with Mlflow\n",
    "\n",
    "One common challenge in MLOps is the hassle of migrating between various algorithms or frameworks. This beginner-friendly article helps you tackle the challenge by leveraging algorithm-agnostic model building using mlflow.pyfunc.\n",
    "\n",
    "Consider this scenario: we have an sklearn model currently deployed in production for a particular use case. Later on, we find that a deep learning model performs even better. If the sklearn model was deployed in its native format, transitioning to the deep learning model could be a hassle, 🤪because the two model artifacts are very different.\n",
    "\n",
    "## MLflow pyfunc flavor\n",
    "\n",
    "To address such a challenge, the mlflow.pyfunc model flavor provides a versatile and generic approach to building and deploying machine learning models in Python. 😎 \n",
    "\n",
    "1. **Generic Model Building:**\n",
    "The pyfunc model flavor offers a generic way to build models, regardless of the framework or library used to create the model.\n",
    "2. **Unified Model Representation:**\n",
    "We can deploy a model, or any python function built with pyfunc without worrying about the model's underlying format. Such a unified representation simplifies model deployment, redeployment, and downstream scoring.\n",
    "3. **Encapsulation of the ML Pipeline:**\n",
    "pyfunc allows us to encapsulate the model with its pre- and post-processing steps or any custom logic desirable during model consumption.\n",
    "\n",
    "## Demo\n",
    "Below is a `mlflow.pyfunc` demo. Ple refer to the [medium article published at Towards Data Science](https://medium.com/towards-data-science/algorithm-agnostic-model-building-with-mlflow-b106a5a29535) for more detailed explanations. \n"
   ]
  },
  {
   "cell_type": "code",
   "execution_count": 14,
   "metadata": {},
   "outputs": [],
   "source": [
    "import mlflow\n",
    "import pandas as pd"
   ]
  },
  {
   "cell_type": "markdown",
   "metadata": {},
   "source": [
    "### `pyfunc` Simplest Toy Model"
   ]
  },
  {
   "cell_type": "code",
   "execution_count": 15,
   "metadata": {},
   "outputs": [],
   "source": [
    "class ToyModel(mlflow.pyfunc.PythonModel):\n",
    "    \"\"\"\n",
    "    ToyModel is a simple example implementation of an MLflow Python model.\n",
    "    \"\"\"\n",
    "    \n",
    "    def predict(self, context, model_input):\n",
    "        \"\"\"\n",
    "        A basic predict function that takes a model_input list and returns a new list where each element is incremented by one.\n",
    "\n",
    "        Parameters:\n",
    "        - context (Any): An optional context parameter provided by MLflow.\n",
    "        - model_input (list of int or float): A list of numerical values that the model will use for prediction.\n",
    "\n",
    "        Returns:\n",
    "        - list of int or float: A list with each element in model_input incremented by one.\n",
    "        \"\"\"\n",
    "        return [x + 1 for x in model_input]\n"
   ]
  },
  {
   "cell_type": "code",
   "execution_count": 16,
   "metadata": {},
   "outputs": [],
   "source": [
    "# log this toy model as an mlflow run\n",
    "with mlflow.start_run():\n",
    "    mlflow.pyfunc.log_model(\n",
    "        artifact_path = \"model\", \n",
    "        python_model=ToyModel()\n",
    "    )\n",
    "    run_id = mlflow.active_run().info.run_id"
   ]
  },
  {
   "cell_type": "code",
   "execution_count": 7,
   "metadata": {},
   "outputs": [
    {
     "name": "stdout",
     "output_type": "stream",
     "text": [
      "[2, 3, 4]\n"
     ]
    }
   ],
   "source": [
    "# load the model and perform inference\n",
    "model = mlflow.pyfunc.load_model(f\"runs:/{run_id}/model\")\n",
    "# dummy new data\n",
    "x_new = [1,2,3]\n",
    "# model inference for the new data\n",
    "print(model.predict(x_new))\n"
   ]
  },
  {
   "cell_type": "markdown",
   "metadata": {},
   "source": [
    "### `pyfunc` Encapsulated ML Pipeline"
   ]
  },
  {
   "cell_type": "code",
   "execution_count": 9,
   "metadata": {},
   "outputs": [],
   "source": [
    "import xgboost as xgb\n",
    "import pandas as pd\n",
    "\n",
    "\n",
    "class XGB_PIPELINE(mlflow.pyfunc.PythonModel):\n",
    "    \"\"\"\n",
    "    XGBWithPreprocess is an example implementation of an MLflow Python model with XGBoost.\n",
    "    \"\"\"\n",
    "    \n",
    "    def __init__(self, params):\n",
    "        \"\"\"\n",
    "        Initialize the model with given parameters.\n",
    "\n",
    "        Parameters:\n",
    "        - params (Dict[str, Union[str, int, float]]): Parameters for the XGBoost model.\n",
    "        \"\"\"\n",
    "        self.params = params\n",
    "        self.model = None\n",
    "\n",
    "    def preprocess_input(self, model_input):\n",
    "        \"\"\"\n",
    "        Preprocess the input data.\n",
    "\n",
    "        Parameters:\n",
    "        - model_input (pd.DataFrame): The input data to preprocess.\n",
    "\n",
    "        Returns:\n",
    "        - pd.DataFrame: The preprocessed input data.\n",
    "        \"\"\"\n",
    "        processed_input = model_input.copy()\n",
    "        # Put any desired preprocessing logic here\n",
    "        processed_input.drop(processed_input.columns[0], axis=1, inplace=True)\n",
    "\n",
    "        return processed_input\n",
    "\n",
    "    def fit(self, X_train, y_train):\n",
    "        \"\"\"\n",
    "        Train the XGBoost model.\n",
    "\n",
    "        Parameters:\n",
    "        - X_train (pd.DataFrame): The training input data.\n",
    "        - y_train (pd.Series): The target values.\n",
    "        \"\"\"\n",
    "        processed_model_input = self.preprocess_input(X_train.copy())\n",
    "        dtrain = xgb.DMatrix(processed_model_input, label=y_train)\n",
    "        self.xgb_model = xgb.train(self.params, dtrain)\n",
    "\n",
    "    def predict(self, context, model_input):\n",
    "        \"\"\"\n",
    "        Predict using the trained XGBoost model.\n",
    "\n",
    "        Parameters:\n",
    "        - context (Any): The context object provided by MLflow.\n",
    "        - model_input (pd.DataFrame): The input data for making predictions.\n",
    "\n",
    "        Returns:\n",
    "        - Any: The prediction results.\n",
    "        \"\"\"\n",
    "        processed_model_input = self.preprocess_input(model_input.copy())\n",
    "        dmatrix = xgb.DMatrix(processed_model_input)\n",
    "        return self.xgb_model.predict(dmatrix) "
   ]
  },
  {
   "cell_type": "code",
   "execution_count": 10,
   "metadata": {},
   "outputs": [],
   "source": [
    "from sklearn.datasets import make_regression\n",
    "from sklearn.model_selection import train_test_split\n",
    "import pandas as pd\n",
    "\n",
    "# Generate synthetic datasets for demo\n",
    "X, y = make_regression(n_samples=1000, n_features=10, noise=0.1, random_state=42)\n",
    "X_train, X_test, y_train, y_test = train_test_split(X, y, test_size=0.2, random_state=42)"
   ]
  },
  {
   "cell_type": "code",
   "execution_count": 11,
   "metadata": {},
   "outputs": [],
   "source": [
    "# train and log the model\n",
    "with mlflow.start_run(run_name = 'xgb_demo') as run:\n",
    "\n",
    "    # Create an instance of XGB_PIPELINE\n",
    "    params = {\n",
    "        'objective': 'reg:squarederror',  \n",
    "        'max_depth': 3,  \n",
    "        'learning_rate': 0.1,\n",
    "    }\n",
    "    model = XGB_PIPELINE(params)\n",
    "\n",
    "    # Fit the model\n",
    "    model.fit(X_train=pd.DataFrame(X_train), y_train=y_train)\n",
    "\n",
    "    # Log the model\n",
    "    model_info = mlflow.pyfunc.log_model(\n",
    "        artifact_path = 'model',\n",
    "        python_model = model,\n",
    "    )\n",
    "\n",
    "    run_id = mlflow.active_run().info.run_id"
   ]
  },
  {
   "cell_type": "markdown",
   "metadata": {},
   "source": [
    "### Deep Dive into the Mlflow.pyfunc Object"
   ]
  },
  {
   "cell_type": "code",
   "execution_count": 36,
   "metadata": {},
   "outputs": [
    {
     "name": "stdout",
     "output_type": "stream",
     "text": [
      "2024-07-20 12:42:35.994182\n",
      "38a617d0f30645e8ae95eea4642a03c2\n",
      "runs:/38a617d0f30645e8ae95eea4642a03c2/model\n",
      "2.14.3\n"
     ]
    }
   ],
   "source": [
    "print(model_info.utc_time_created)\n",
    "print(model_info.run_id)\n",
    "print(model_info.model_uri)\n",
    "print(model_info.mlflow_version)\n"
   ]
  },
  {
   "cell_type": "code",
   "execution_count": 37,
   "metadata": {},
   "outputs": [
    {
     "name": "stdout",
     "output_type": "stream",
     "text": [
      "runs:/38a617d0f30645e8ae95eea4642a03c2/model\n",
      "38a617d0f30645e8ae95eea4642a03c2\n"
     ]
    }
   ],
   "source": [
    "\n",
    "print(model_info.model_uri)\n",
    "print(run_id)"
   ]
  },
  {
   "cell_type": "code",
   "execution_count": 12,
   "metadata": {},
   "outputs": [
    {
     "data": {
      "text/plain": [
       "array([ 4.11692047e+00,  7.30551958e+00, -2.36042137e+01, -1.31888123e+02,\n",
       "       -3.59597740e+01,  1.54358311e+01, -8.11709061e+01, -7.20540428e+00,\n",
       "       -1.30709152e+01,  6.39794998e+01, -9.27280197e+01, -2.26579022e+00,\n",
       "        3.47381516e+01, -6.19107590e+01,  3.34622955e+01, -1.14708206e+02,\n",
       "       -6.09642944e+01, -1.33605647e+00,  6.94177933e+01, -6.88880005e+01,\n",
       "        1.56064920e+01,  7.54498520e+01,  4.88155556e+01,  1.72110510e+00,\n",
       "        1.13513260e+02,  3.03793182e+01, -1.31428665e+02,  7.69099426e+01,\n",
       "        6.46578903e+01,  1.00327553e+02,  5.51982651e+01, -4.73030014e+01,\n",
       "       -5.56093407e+01,  3.03793182e+01, -4.19037476e+01, -5.03655167e+01,\n",
       "       -1.31638784e+01, -1.20837240e+01,  3.34622955e+01, -2.36042137e+01,\n",
       "        2.69025154e+01, -2.87856426e+01,  2.63542976e+01,  4.22503738e+01,\n",
       "       -4.69940872e+01, -1.99425220e-02, -5.63392944e+01,  3.39756622e+01,\n",
       "        2.17549591e+01, -4.07176819e+01,  2.15980854e+01,  4.64821968e+01,\n",
       "        9.28865204e+01, -2.11082344e+01, -4.36383286e+01, -4.08283844e+01,\n",
       "        3.47381516e+01,  3.34622955e+01,  9.73714447e+00, -2.26579022e+00,\n",
       "       -2.11082344e+01, -7.03586721e+00, -1.32620525e+01, -8.10331726e+01,\n",
       "        2.13051796e+01,  4.15731201e+01,  1.27788429e+02,  4.22503738e+01,\n",
       "       -5.09412289e+00,  2.69361744e+01,  2.75929489e+01,  7.06747198e+00,\n",
       "        2.15980854e+01, -3.54409485e+01, -5.56093407e+01,  2.07402058e+01,\n",
       "        2.13544369e+00, -3.15034542e+01,  7.69099426e+01, -5.57772369e+01,\n",
       "        3.21801414e+01, -2.79909401e+01, -1.31888123e+02, -1.58520336e+01,\n",
       "        5.59312725e+00, -1.04058960e+02,  3.03793182e+01,  1.08628677e+02,\n",
       "       -7.89133759e+01, -1.86372147e+01,  4.22503738e+01,  2.63542976e+01,\n",
       "        4.93289185e+01,  1.07328316e+02,  7.10405960e+01,  5.28649063e+01,\n",
       "        1.07328316e+02, -8.10331726e+01, -2.36042137e+01, -2.11082344e+01,\n",
       "        1.13711021e+02, -1.43978119e-01,  1.48200226e+01,  3.03793182e+01,\n",
       "       -7.33512802e+01,  4.11208649e+01, -6.89782486e+01, -8.91029205e+01,\n",
       "       -7.30474091e+01, -1.97590961e+01, -6.89782486e+01, -7.33512802e+01,\n",
       "        3.60654335e+01,  7.54498520e+01, -1.40566978e+01, -7.20540428e+00,\n",
       "        4.93289185e+01, -1.33605647e+00,  8.32038593e+00,  8.85846481e+01,\n",
       "       -1.15160606e+02, -5.03655167e+01,  4.18686943e+01, -2.15942430e+00,\n",
       "       -3.15034542e+01, -1.06638451e+02,  1.24382687e+01,  1.68889923e+01,\n",
       "        3.47917137e+01, -1.20837240e+01,  4.64821968e+01,  3.60654335e+01,\n",
       "        4.62785950e+01,  4.15731201e+01,  8.22019348e+01,  4.88231277e+00,\n",
       "        2.13051796e+01, -5.03655167e+01,  6.28325500e+01,  9.22378063e+00,\n",
       "        2.94789944e+01,  1.10858607e+00, -9.57752380e+01, -1.01451893e+01,\n",
       "        9.63766174e+01, -5.02242508e+01,  1.33175468e+01,  3.60654335e+01,\n",
       "        1.05023365e+01,  5.28649063e+01,  3.69200249e+01,  1.70084839e+01,\n",
       "       -3.53569565e+01,  1.31765795e+01,  1.60540791e+01, -5.63392944e+01,\n",
       "        9.45512695e+01, -4.08283844e+01, -3.53569565e+01, -1.11134933e+02,\n",
       "       -1.31888123e+02,  7.10405960e+01,  5.64498405e+01,  2.88688049e+01,\n",
       "        4.77580605e+01, -5.03655167e+01, -7.73841324e+01, -1.99425220e-02,\n",
       "        7.05272369e+01, -1.20837240e+01,  7.74839706e+01,  3.03793182e+01,\n",
       "       -5.02908936e+01,  6.28325500e+01,  5.28649063e+01,  6.94177933e+01,\n",
       "       -4.26503181e+01,  9.31233788e+00,  3.83650818e+01, -7.20540428e+00,\n",
       "       -2.58875809e+01,  3.60654335e+01,  6.32328491e+01, -1.09415253e+02,\n",
       "       -1.39308304e+02,  3.56837463e+01,  3.03793182e+01,  4.22503738e+01,\n",
       "       -6.88942642e+01,  2.94789944e+01,  8.81685562e+01,  2.46903286e+01,\n",
       "        4.64821968e+01, -7.31011581e+01,  1.21405724e+02, -1.11134933e+02,\n",
       "       -3.97754593e+01, -1.15160606e+02, -1.20837240e+01,  3.03793182e+01],\n",
       "      dtype=float32)"
      ]
     },
     "execution_count": 12,
     "metadata": {},
     "output_type": "execute_result"
    }
   ],
   "source": [
    "loaded_model = mlflow.pyfunc.load_model(model_uri=model_info.model_uri) \n",
    "loaded_model.predict(pd.DataFrame(X_test))"
   ]
  },
  {
   "cell_type": "code",
   "execution_count": 13,
   "metadata": {},
   "outputs": [
    {
     "data": {
      "text/plain": [
       "array([ 4.11692047e+00,  7.30551958e+00, -2.36042137e+01, -1.31888123e+02,\n",
       "       -3.59597740e+01,  1.54358311e+01, -8.11709061e+01, -7.20540428e+00,\n",
       "       -1.30709152e+01,  6.39794998e+01, -9.27280197e+01, -2.26579022e+00,\n",
       "        3.47381516e+01, -6.19107590e+01,  3.34622955e+01, -1.14708206e+02,\n",
       "       -6.09642944e+01, -1.33605647e+00,  6.94177933e+01, -6.88880005e+01,\n",
       "        1.56064920e+01,  7.54498520e+01,  4.88155556e+01,  1.72110510e+00,\n",
       "        1.13513260e+02,  3.03793182e+01, -1.31428665e+02,  7.69099426e+01,\n",
       "        6.46578903e+01,  1.00327553e+02,  5.51982651e+01, -4.73030014e+01,\n",
       "       -5.56093407e+01,  3.03793182e+01, -4.19037476e+01, -5.03655167e+01,\n",
       "       -1.31638784e+01, -1.20837240e+01,  3.34622955e+01, -2.36042137e+01,\n",
       "        2.69025154e+01, -2.87856426e+01,  2.63542976e+01,  4.22503738e+01,\n",
       "       -4.69940872e+01, -1.99425220e-02, -5.63392944e+01,  3.39756622e+01,\n",
       "        2.17549591e+01, -4.07176819e+01,  2.15980854e+01,  4.64821968e+01,\n",
       "        9.28865204e+01, -2.11082344e+01, -4.36383286e+01, -4.08283844e+01,\n",
       "        3.47381516e+01,  3.34622955e+01,  9.73714447e+00, -2.26579022e+00,\n",
       "       -2.11082344e+01, -7.03586721e+00, -1.32620525e+01, -8.10331726e+01,\n",
       "        2.13051796e+01,  4.15731201e+01,  1.27788429e+02,  4.22503738e+01,\n",
       "       -5.09412289e+00,  2.69361744e+01,  2.75929489e+01,  7.06747198e+00,\n",
       "        2.15980854e+01, -3.54409485e+01, -5.56093407e+01,  2.07402058e+01,\n",
       "        2.13544369e+00, -3.15034542e+01,  7.69099426e+01, -5.57772369e+01,\n",
       "        3.21801414e+01, -2.79909401e+01, -1.31888123e+02, -1.58520336e+01,\n",
       "        5.59312725e+00, -1.04058960e+02,  3.03793182e+01,  1.08628677e+02,\n",
       "       -7.89133759e+01, -1.86372147e+01,  4.22503738e+01,  2.63542976e+01,\n",
       "        4.93289185e+01,  1.07328316e+02,  7.10405960e+01,  5.28649063e+01,\n",
       "        1.07328316e+02, -8.10331726e+01, -2.36042137e+01, -2.11082344e+01,\n",
       "        1.13711021e+02, -1.43978119e-01,  1.48200226e+01,  3.03793182e+01,\n",
       "       -7.33512802e+01,  4.11208649e+01, -6.89782486e+01, -8.91029205e+01,\n",
       "       -7.30474091e+01, -1.97590961e+01, -6.89782486e+01, -7.33512802e+01,\n",
       "        3.60654335e+01,  7.54498520e+01, -1.40566978e+01, -7.20540428e+00,\n",
       "        4.93289185e+01, -1.33605647e+00,  8.32038593e+00,  8.85846481e+01,\n",
       "       -1.15160606e+02, -5.03655167e+01,  4.18686943e+01, -2.15942430e+00,\n",
       "       -3.15034542e+01, -1.06638451e+02,  1.24382687e+01,  1.68889923e+01,\n",
       "        3.47917137e+01, -1.20837240e+01,  4.64821968e+01,  3.60654335e+01,\n",
       "        4.62785950e+01,  4.15731201e+01,  8.22019348e+01,  4.88231277e+00,\n",
       "        2.13051796e+01, -5.03655167e+01,  6.28325500e+01,  9.22378063e+00,\n",
       "        2.94789944e+01,  1.10858607e+00, -9.57752380e+01, -1.01451893e+01,\n",
       "        9.63766174e+01, -5.02242508e+01,  1.33175468e+01,  3.60654335e+01,\n",
       "        1.05023365e+01,  5.28649063e+01,  3.69200249e+01,  1.70084839e+01,\n",
       "       -3.53569565e+01,  1.31765795e+01,  1.60540791e+01, -5.63392944e+01,\n",
       "        9.45512695e+01, -4.08283844e+01, -3.53569565e+01, -1.11134933e+02,\n",
       "       -1.31888123e+02,  7.10405960e+01,  5.64498405e+01,  2.88688049e+01,\n",
       "        4.77580605e+01, -5.03655167e+01, -7.73841324e+01, -1.99425220e-02,\n",
       "        7.05272369e+01, -1.20837240e+01,  7.74839706e+01,  3.03793182e+01,\n",
       "       -5.02908936e+01,  6.28325500e+01,  5.28649063e+01,  6.94177933e+01,\n",
       "       -4.26503181e+01,  9.31233788e+00,  3.83650818e+01, -7.20540428e+00,\n",
       "       -2.58875809e+01,  3.60654335e+01,  6.32328491e+01, -1.09415253e+02,\n",
       "       -1.39308304e+02,  3.56837463e+01,  3.03793182e+01,  4.22503738e+01,\n",
       "       -6.88942642e+01,  2.94789944e+01,  8.81685562e+01,  2.46903286e+01,\n",
       "        4.64821968e+01, -7.31011581e+01,  1.21405724e+02, -1.11134933e+02,\n",
       "       -3.97754593e+01, -1.15160606e+02, -1.20837240e+01,  3.03793182e+01],\n",
       "      dtype=float32)"
      ]
     },
     "execution_count": 13,
     "metadata": {},
     "output_type": "execute_result"
    }
   ],
   "source": [
    "unwrapped_model = loaded_model.unwrap_python_model()\n",
    "# need to provide context mannually when performing inference with the unwrapped_mnoel\n",
    "unwrapped_model.predict(context=None, model_input=pd.DataFrame(X_test))\n"
   ]
  },
  {
   "cell_type": "code",
   "execution_count": 14,
   "metadata": {},
   "outputs": [
    {
     "name": "stdout",
     "output_type": "stream",
     "text": [
      "{'objective': 'reg:squarederror', 'max_depth': 3, 'learning_rate': 0.1}\n"
     ]
    }
   ],
   "source": [
    "print(unwrapped_model.params)"
   ]
  },
  {
   "cell_type": "code",
   "execution_count": 15,
   "metadata": {},
   "outputs": [
    {
     "name": "stdout",
     "output_type": "stream",
     "text": [
      "model\n",
      "848e2039df78422a95ece7deb3b0fef9\n"
     ]
    }
   ],
   "source": [
    "print(loaded_model.metadata.artifact_path)\n",
    "print(loaded_model.metadata.run_id)"
   ]
  },
  {
   "cell_type": "code",
   "execution_count": 16,
   "metadata": {},
   "outputs": [
    {
     "name": "stderr",
     "output_type": "stream",
     "text": [
      "2024/07/21 16:21:10 INFO mlflow.pyfunc: To install the dependencies that were used to train the model, run the following command: '%pip install -r C:\\Users\\ningw\\Desktop\\Repo\\mlflow-demo\\mlruns\\0\\848e2039df78422a95ece7deb3b0fef9\\artifacts\\model\\requirements.txt'.\n"
     ]
    },
    {
     "data": {
      "text/plain": [
       "'C:\\\\Users\\\\ningw\\\\Desktop\\\\Repo\\\\mlflow-demo\\\\mlruns\\\\0\\\\848e2039df78422a95ece7deb3b0fef9\\\\artifacts\\\\model\\\\requirements.txt'"
      ]
     },
     "execution_count": 16,
     "metadata": {},
     "output_type": "execute_result"
    }
   ],
   "source": [
    "mlflow.pyfunc.get_model_dependencies(model_info.model_uri)"
   ]
  }
 ],
 "metadata": {
  "kernelspec": {
   "display_name": "Databricks-zutb1lv8",
   "language": "python",
   "name": "python3"
  },
  "language_info": {
   "codemirror_mode": {
    "name": "ipython",
    "version": 3
   },
   "file_extension": ".py",
   "mimetype": "text/x-python",
   "name": "python",
   "nbconvert_exporter": "python",
   "pygments_lexer": "ipython3",
   "version": "3.11.2"
  }
 },
 "nbformat": 4,
 "nbformat_minor": 2
}
